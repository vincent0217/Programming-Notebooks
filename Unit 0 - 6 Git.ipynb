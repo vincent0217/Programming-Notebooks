{
 "cells": [
  {
   "cell_type": "markdown",
   "metadata": {},
   "source": [
    "# 0.5 - Git and GitHub"
   ]
  },
  {
   "cell_type": "markdown",
   "metadata": {},
   "source": [
    "## **What's Git**\n",
    "\n",
    "Git is a version control system. Version control systems allow programmers to keep track of changes to their work as they progress through the development cycle."
   ]
  },
  {
   "cell_type": "markdown",
   "metadata": {},
   "source": [
    "## **SETTING UP GIT**  \n",
    "Source: (https://education.github.com/git-cheat-sheet-education.pdf)\n",
    "\n",
    "Git requires an email address and name to keep track of changes in the respository.\n",
    "\n",
    "`git config --global user.name “[firstname lastname]`  \n",
    "set a name that is identifiable for credit when review version history\n",
    "\n",
    "`git config --global user.email “[valid-email]”`  \n",
    "set an email address that will be associated with each history marker\n",
    "\n",
    "`git config --global color.ui auto`  \n",
    "set automatic command line coloring for Git for easy reviewing"
   ]
  },
  {
   "cell_type": "markdown",
   "metadata": {},
   "source": [
    "## **SETTING UP AND INITIALIZING A REPOSITORY**\n",
    "\n",
    "`git init`  \n",
    "initialize an existing directory as a Git repository\n",
    "\n",
    "`git clone [url]`  \n",
    "retrieve an entire repository from a hosted location via URL"
   ]
  },
  {
   "cell_type": "markdown",
   "metadata": {},
   "source": [
    "## **STAGE & SNAPSHOT**  \n",
    "Working with snapshots and the Git staging area\n",
    "\n",
    "`git status`  \n",
    "show modified files in working directory, staged for your next commit\n",
    "\n",
    "`git add [file]`  \n",
    "add a file as it looks now to your next commit (stage)  \n",
    "\n",
    "`git reset [file]`  \n",
    "unstage a file while retaining the changes in working directory\n",
    "\n",
    "`git diff`  \n",
    "diff of what is changed but not staged  \n",
    "\n",
    "`git diff --staged`  \n",
    "diff of what is staged but not yet committed\n",
    "\n",
    "`git commit -m “[descriptive message]”`  \n",
    "commit your staged content as a new commit snapshot"
   ]
  }
 ],
 "metadata": {
  "kernelspec": {
   "display_name": "Python 3 (ipykernel)",
   "language": "python",
   "name": "python3"
  },
  "language_info": {
   "codemirror_mode": {
    "name": "ipython",
    "version": 3
   },
   "file_extension": ".py",
   "mimetype": "text/x-python",
   "name": "python",
   "nbconvert_exporter": "python",
   "pygments_lexer": "ipython3",
   "version": "3.8.9"
  }
 },
 "nbformat": 4,
 "nbformat_minor": 4
}
